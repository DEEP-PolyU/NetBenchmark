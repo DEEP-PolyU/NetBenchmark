{
 "cells": [
  {
   "cell_type": "code",
   "execution_count": 46,
   "metadata": {},
   "outputs": [],
   "source": [
    "import ast\n",
    "import json\n",
    "import pandas as pd\n",
    "import numpy as np"
   ]
  },
  {
   "cell_type": "code",
   "execution_count": 47,
   "metadata": {},
   "outputs": [],
   "source": [
    "#read the result data you want\n",
    "df = pd.read_csv('result.txt')"
   ]
  },
  {
   "cell_type": "code",
   "execution_count": 48,
   "metadata": {},
   "outputs": [],
   "source": [
    "with open('result.txt') as f:\n",
    "    data = f.readlines()\n",
    "    data = [item.replace(\"'\", '\"') for item in data]\n",
    "    res = json.dumps(data)"
   ]
  },
  {
   "cell_type": "code",
   "execution_count": 49,
   "metadata": {},
   "outputs": [
    {
     "name": "stdout",
     "output_type": "stream",
     "text": [
      "{'Dataset': 'cora', 'model': 'featwalk', 'f1_micro': 0.8478633936062095, 'f1_macro': 0.8333061806893458, 'roc_score': 0.990658159572821, 'ap_score': 0.9824548166717377, 'best': {'alpha1': 0.705336059137853, 'evaluation': 0, 'num_paths': 48.0, 'path_length': 25.0, 'win_size': 12.0}} <class 'dict'>\n",
      "{'Dataset': 'cora', 'model': 'netmf', 'f1_micro': 0.8452824140071347, 'f1_macro': 0.8366226540364392, 'roc_score': 0.9902278840164334, 'ap_score': 0.9926354714233097, 'best': {'window': 9.0}} <class 'dict'>\n",
      "{'Dataset': 'cora', 'model': 'deepwalk', 'f1_micro': 0.8013382351938121, 'f1_macro': 0.7908166083319863, 'roc_score': 0.9265344994581048, 'ap_score': 0.8794987961721727, 'best': {'number_walks': 53.0, 'walk_length': 41.0, 'window_size': 44.0}} <class 'dict'>\n",
      "{'Dataset': 'cora', 'model': 'node2vec', 'f1_micro': 0.8589396430008662, 'f1_macro': 0.8502424881609688, 'roc_score': 0.9218770816155317, 'ap_score': 0.9141549148302945, 'best': {'length': 32.0, 'p': 0.4233821836207442, 'q': 1.8183514141115853, 'walks': 67.0, 'window': 24.0}} <class 'dict'>\n",
      "{'Dataset': 'cora', 'model': 'dgi', 'f1_micro': 0.8700199848578892, 'f1_macro': 0.8536080752704812, 'roc_score': 0.9798940693985865, 'ap_score': 0.9755394904180557, 'best': {'batch_size': 92.0, 'lr': 0.0057817303348857525, 'nb_epochs': 100.0}} <class 'dict'>\n",
      "{'Dataset': 'cora', 'model': 'gae', 'f1_micro': 0.8031750687192638, 'f1_macro': 0.7899422873980965, 'roc_score': 0.9751682395428638, 'ap_score': 0.9739132164208558, 'best': {'dropout': 0.06830272184559671, 'epochs': 119.0, 'lr': 0.007390309182022118}} <class 'dict'>\n",
      "{'Dataset': 'cora', 'model': 'can_new', 'f1_micro': 0.8796222657235813, 'f1_macro': 0.8712182389150016, 'roc_score': 0.9943974161862823, 'ap_score': 0.9927357419453724, 'best': {'batch_size': 39.0, 'lr': 0.010716165077495262, 'nb_epochs': 110.0}} <class 'dict'>\n",
      "{'Dataset': 'cora', 'model': 'can_original', 'f1_micro': 0.34084209233959245, 'f1_macro': 0.14668641134411115, 'roc_score': 0.7262961376017628, 'ap_score': 0.6897153536567027, 'best': {'batch_size': 53.0, 'dropout': 0.47896268173451473, 'lr': 0.0985733336777517, 'nb_epochs': 112.0}} <class 'dict'>\n",
      "{'Dataset': 'flickr', 'model': 'featwalk', 'f1_micro': 0.7909845711068446, 'f1_macro': 0.7890680712841036, 'roc_score': 0.8277203028262532, 'ap_score': 0.858343156764164, 'best': {'alpha1': 0.25257565129753545, 'evaluation': 0, 'num_paths': 19.0, 'path_length': 12.0, 'win_size': 12.0}} <class 'dict'>\n",
      "{'Dataset': 'flickr', 'model': 'netmf', 'f1_micro': 0.5970375790765745, 'f1_macro': 0.5933785855967073, 'roc_score': 0.8515798947315389, 'ap_score': 0.8404383150421395, 'best': {'window': 6.0}} <class 'dict'>\n",
      "{'Dataset': 'flickr', 'model': 'deepwalk', 'f1_micro': 0.5950555503100116, 'f1_macro': 0.5902228721512641, 'roc_score': 0.6454655116755755, 'ap_score': 0.6327847894873455, 'best': {'number_walks': 63.0, 'walk_length': 48.0, 'window_size': 32.0}} <class 'dict'>\n",
      "{'Dataset': 'flickr', 'model': 'node2vec', 'f1_micro': 0.5707318757715321, 'f1_macro': 0.5667490361362632, 'roc_score': 0.7465425483860482, 'ap_score': 0.7414530780316977, 'best': {'length': 28.0, 'p': 0.599248454182104, 'q': 1.0538997963998824, 'walks': 65.0, 'window': 27.0}} <class 'dict'>\n",
      "{'Dataset': 'flickr', 'model': 'dgi', 'f1_micro': 0.22197052354025254, 'f1_macro': 0.1737710732238194, 'roc_score': 0.9248806982529392, 'ap_score': 0.920306016843919, 'best': {'batch_size': 40.0, 'lr': 0.04997012108789107, 'nb_epochs': 109.0}} <class 'dict'>\n",
      "{'Dataset': 'flickr', 'model': 'gae', 'f1_micro': 0.10959724713855579, 'f1_macro': 0.021943138046434628, 'roc_score': 0.5, 'ap_score': 0.5, 'best': {'dropout': 0.2852630410559893, 'epochs': 113.0, 'lr': 0.07628042235071536}} <class 'dict'>\n"
     ]
    }
   ],
   "source": [
    "table = pd.DataFrame()\n",
    "result = json.loads(res)\n",
    "for a in result:\n",
    "        add = ast.literal_eval(a)\n",
    "        print(add,type(add))\n",
    "        table = table.append(add, ignore_index=True)"
   ]
  },
  {
   "cell_type": "code",
   "execution_count": 50,
   "metadata": {},
   "outputs": [],
   "source": [
    "#test loop\n",
    "test = ast.literal_eval(result[1])"
   ]
  },
  {
   "cell_type": "code",
   "execution_count": 51,
   "metadata": {},
   "outputs": [],
   "source": [
    "# #link prediction drop\n",
    "# table = table.drop(columns=['best','f1_macro','f1_micro'])"
   ]
  },
  {
   "cell_type": "code",
   "execution_count": 52,
   "metadata": {},
   "outputs": [],
   "source": [
    "#node_classification drop\n",
    "table = table.drop(columns=['best','ap_score','roc_score'])"
   ]
  },
  {
   "cell_type": "code",
   "execution_count": 53,
   "metadata": {},
   "outputs": [
    {
     "data": {
      "text/html": [
       "<div>\n",
       "<style scoped>\n",
       "    .dataframe tbody tr th:only-of-type {\n",
       "        vertical-align: middle;\n",
       "    }\n",
       "\n",
       "    .dataframe tbody tr th {\n",
       "        vertical-align: top;\n",
       "    }\n",
       "\n",
       "    .dataframe thead th {\n",
       "        text-align: right;\n",
       "    }\n",
       "</style>\n",
       "<table border=\"1\" class=\"dataframe\">\n",
       "  <thead>\n",
       "    <tr style=\"text-align: right;\">\n",
       "      <th></th>\n",
       "      <th>Dataset</th>\n",
       "      <th>f1_macro</th>\n",
       "      <th>f1_micro</th>\n",
       "      <th>model</th>\n",
       "    </tr>\n",
       "  </thead>\n",
       "  <tbody>\n",
       "    <tr>\n",
       "      <th>0</th>\n",
       "      <td>cora</td>\n",
       "      <td>0.833306</td>\n",
       "      <td>0.847863</td>\n",
       "      <td>featwalk</td>\n",
       "    </tr>\n",
       "    <tr>\n",
       "      <th>1</th>\n",
       "      <td>cora</td>\n",
       "      <td>0.836623</td>\n",
       "      <td>0.845282</td>\n",
       "      <td>netmf</td>\n",
       "    </tr>\n",
       "    <tr>\n",
       "      <th>2</th>\n",
       "      <td>cora</td>\n",
       "      <td>0.790817</td>\n",
       "      <td>0.801338</td>\n",
       "      <td>deepwalk</td>\n",
       "    </tr>\n",
       "    <tr>\n",
       "      <th>3</th>\n",
       "      <td>cora</td>\n",
       "      <td>0.850242</td>\n",
       "      <td>0.858940</td>\n",
       "      <td>node2vec</td>\n",
       "    </tr>\n",
       "    <tr>\n",
       "      <th>4</th>\n",
       "      <td>cora</td>\n",
       "      <td>0.853608</td>\n",
       "      <td>0.870020</td>\n",
       "      <td>dgi</td>\n",
       "    </tr>\n",
       "    <tr>\n",
       "      <th>5</th>\n",
       "      <td>cora</td>\n",
       "      <td>0.789942</td>\n",
       "      <td>0.803175</td>\n",
       "      <td>gae</td>\n",
       "    </tr>\n",
       "    <tr>\n",
       "      <th>6</th>\n",
       "      <td>cora</td>\n",
       "      <td>0.871218</td>\n",
       "      <td>0.879622</td>\n",
       "      <td>can_new</td>\n",
       "    </tr>\n",
       "    <tr>\n",
       "      <th>7</th>\n",
       "      <td>cora</td>\n",
       "      <td>0.146686</td>\n",
       "      <td>0.340842</td>\n",
       "      <td>can_original</td>\n",
       "    </tr>\n",
       "    <tr>\n",
       "      <th>8</th>\n",
       "      <td>flickr</td>\n",
       "      <td>0.789068</td>\n",
       "      <td>0.790985</td>\n",
       "      <td>featwalk</td>\n",
       "    </tr>\n",
       "    <tr>\n",
       "      <th>9</th>\n",
       "      <td>flickr</td>\n",
       "      <td>0.593379</td>\n",
       "      <td>0.597038</td>\n",
       "      <td>netmf</td>\n",
       "    </tr>\n",
       "    <tr>\n",
       "      <th>10</th>\n",
       "      <td>flickr</td>\n",
       "      <td>0.590223</td>\n",
       "      <td>0.595056</td>\n",
       "      <td>deepwalk</td>\n",
       "    </tr>\n",
       "    <tr>\n",
       "      <th>11</th>\n",
       "      <td>flickr</td>\n",
       "      <td>0.566749</td>\n",
       "      <td>0.570732</td>\n",
       "      <td>node2vec</td>\n",
       "    </tr>\n",
       "    <tr>\n",
       "      <th>12</th>\n",
       "      <td>flickr</td>\n",
       "      <td>0.173771</td>\n",
       "      <td>0.221971</td>\n",
       "      <td>dgi</td>\n",
       "    </tr>\n",
       "    <tr>\n",
       "      <th>13</th>\n",
       "      <td>flickr</td>\n",
       "      <td>0.021943</td>\n",
       "      <td>0.109597</td>\n",
       "      <td>gae</td>\n",
       "    </tr>\n",
       "  </tbody>\n",
       "</table>\n",
       "</div>"
      ],
      "text/plain": [
       "   Dataset  f1_macro  f1_micro         model\n",
       "0     cora  0.833306  0.847863      featwalk\n",
       "1     cora  0.836623  0.845282         netmf\n",
       "2     cora  0.790817  0.801338      deepwalk\n",
       "3     cora  0.850242  0.858940      node2vec\n",
       "4     cora  0.853608  0.870020           dgi\n",
       "5     cora  0.789942  0.803175           gae\n",
       "6     cora  0.871218  0.879622       can_new\n",
       "7     cora  0.146686  0.340842  can_original\n",
       "8   flickr  0.789068  0.790985      featwalk\n",
       "9   flickr  0.593379  0.597038         netmf\n",
       "10  flickr  0.590223  0.595056      deepwalk\n",
       "11  flickr  0.566749  0.570732      node2vec\n",
       "12  flickr  0.173771  0.221971           dgi\n",
       "13  flickr  0.021943  0.109597           gae"
      ]
     },
     "execution_count": 53,
     "metadata": {},
     "output_type": "execute_result"
    }
   ],
   "source": [
    "table"
   ]
  },
  {
   "cell_type": "code",
   "execution_count": 54,
   "metadata": {},
   "outputs": [],
   "source": [
    "# #generate link prediction\n",
    "# t1 = table.drop(columns=['roc_score','ap_score'])\n",
    "# t1['  '] = table['ap_score']\n",
    "# t1[' '] = 'ap_score'\n",
    "# t2 = table.drop(columns=['ap_score','roc_score'])\n",
    "# t2['  '] = table['roc_score']\n",
    "# t2[' '] = 'roc_score'"
   ]
  },
  {
   "cell_type": "code",
   "execution_count": 55,
   "metadata": {},
   "outputs": [],
   "source": [
    "#generate node classification\n",
    "t1 = table.drop(columns=['f1_macro','f1_micro'])\n",
    "t1['  '] = table['f1_macro']\n",
    "t1[' '] = 'f1_macro'\n",
    "t2 = table.drop(columns=['f1_macro','f1_micro'])\n",
    "t2['  '] = table['f1_micro']\n",
    "t2[' '] = 'f1_micro'"
   ]
  },
  {
   "cell_type": "code",
   "execution_count": 56,
   "metadata": {},
   "outputs": [],
   "source": [
    "pf = t1.append(t2)\n",
    "pf['modeltype'] =0"
   ]
  },
  {
   "cell_type": "code",
   "execution_count": 57,
   "metadata": {},
   "outputs": [],
   "source": [
    "#assign deep or shallow\n",
    "col_is_shallow = (pf['model'].isin(['featwalk','netmf','deepwalk','node2vec']))\n",
    "col_is_not_shallow = (~pf['model'].isin(['featwalk','netmf','deepwalk','node2vec']))\n",
    "\n",
    "pf.loc[col_is_shallow, 'modeltype'] = 'shallow'\n",
    "pf.loc[col_is_not_shallow,'modeltype'] = 'deep'"
   ]
  },
  {
   "cell_type": "code",
   "execution_count": 58,
   "metadata": {},
   "outputs": [],
   "source": [
    "pf = pf.pivot(index=['modeltype','model'],values=['  '],columns=['Dataset',' '])"
   ]
  },
  {
   "cell_type": "code",
   "execution_count": 59,
   "metadata": {},
   "outputs": [],
   "source": [
    "pf = pf.reindex(sorted(pf.columns), axis=1)"
   ]
  },
  {
   "cell_type": "code",
   "execution_count": 60,
   "metadata": {},
   "outputs": [
    {
     "data": {
      "text/html": [
       "<div>\n",
       "<style scoped>\n",
       "    .dataframe tbody tr th:only-of-type {\n",
       "        vertical-align: middle;\n",
       "    }\n",
       "\n",
       "    .dataframe tbody tr th {\n",
       "        vertical-align: top;\n",
       "    }\n",
       "\n",
       "    .dataframe thead tr th {\n",
       "        text-align: left;\n",
       "    }\n",
       "\n",
       "    .dataframe thead tr:last-of-type th {\n",
       "        text-align: right;\n",
       "    }\n",
       "</style>\n",
       "<table border=\"1\" class=\"dataframe\">\n",
       "  <thead>\n",
       "    <tr>\n",
       "      <th></th>\n",
       "      <th></th>\n",
       "      <th colspan=\"4\" halign=\"left\"></th>\n",
       "    </tr>\n",
       "    <tr>\n",
       "      <th></th>\n",
       "      <th>Dataset</th>\n",
       "      <th colspan=\"2\" halign=\"left\">cora</th>\n",
       "      <th colspan=\"2\" halign=\"left\">flickr</th>\n",
       "    </tr>\n",
       "    <tr>\n",
       "      <th></th>\n",
       "      <th></th>\n",
       "      <th>f1_macro</th>\n",
       "      <th>f1_micro</th>\n",
       "      <th>f1_macro</th>\n",
       "      <th>f1_micro</th>\n",
       "    </tr>\n",
       "    <tr>\n",
       "      <th>modeltype</th>\n",
       "      <th>model</th>\n",
       "      <th></th>\n",
       "      <th></th>\n",
       "      <th></th>\n",
       "      <th></th>\n",
       "    </tr>\n",
       "  </thead>\n",
       "  <tbody>\n",
       "    <tr>\n",
       "      <th rowspan=\"4\" valign=\"top\">deep</th>\n",
       "      <th>can_new</th>\n",
       "      <td>0.871218</td>\n",
       "      <td>0.879622</td>\n",
       "      <td>NaN</td>\n",
       "      <td>NaN</td>\n",
       "    </tr>\n",
       "    <tr>\n",
       "      <th>can_original</th>\n",
       "      <td>0.146686</td>\n",
       "      <td>0.340842</td>\n",
       "      <td>NaN</td>\n",
       "      <td>NaN</td>\n",
       "    </tr>\n",
       "    <tr>\n",
       "      <th>dgi</th>\n",
       "      <td>0.853608</td>\n",
       "      <td>0.870020</td>\n",
       "      <td>0.173771</td>\n",
       "      <td>0.221971</td>\n",
       "    </tr>\n",
       "    <tr>\n",
       "      <th>gae</th>\n",
       "      <td>0.789942</td>\n",
       "      <td>0.803175</td>\n",
       "      <td>0.021943</td>\n",
       "      <td>0.109597</td>\n",
       "    </tr>\n",
       "    <tr>\n",
       "      <th rowspan=\"4\" valign=\"top\">shallow</th>\n",
       "      <th>deepwalk</th>\n",
       "      <td>0.790817</td>\n",
       "      <td>0.801338</td>\n",
       "      <td>0.590223</td>\n",
       "      <td>0.595056</td>\n",
       "    </tr>\n",
       "    <tr>\n",
       "      <th>featwalk</th>\n",
       "      <td>0.833306</td>\n",
       "      <td>0.847863</td>\n",
       "      <td>0.789068</td>\n",
       "      <td>0.790985</td>\n",
       "    </tr>\n",
       "    <tr>\n",
       "      <th>netmf</th>\n",
       "      <td>0.836623</td>\n",
       "      <td>0.845282</td>\n",
       "      <td>0.593379</td>\n",
       "      <td>0.597038</td>\n",
       "    </tr>\n",
       "    <tr>\n",
       "      <th>node2vec</th>\n",
       "      <td>0.850242</td>\n",
       "      <td>0.858940</td>\n",
       "      <td>0.566749</td>\n",
       "      <td>0.570732</td>\n",
       "    </tr>\n",
       "  </tbody>\n",
       "</table>\n",
       "</div>"
      ],
      "text/plain": [
       "                                                              \n",
       "Dataset                     cora              flickr          \n",
       "                        f1_macro  f1_micro  f1_macro  f1_micro\n",
       "modeltype model                                               \n",
       "deep      can_new       0.871218  0.879622       NaN       NaN\n",
       "          can_original  0.146686  0.340842       NaN       NaN\n",
       "          dgi           0.853608  0.870020  0.173771  0.221971\n",
       "          gae           0.789942  0.803175  0.021943  0.109597\n",
       "shallow   deepwalk      0.790817  0.801338  0.590223  0.595056\n",
       "          featwalk      0.833306  0.847863  0.789068  0.790985\n",
       "          netmf         0.836623  0.845282  0.593379  0.597038\n",
       "          node2vec      0.850242  0.858940  0.566749  0.570732"
      ]
     },
     "execution_count": 60,
     "metadata": {},
     "output_type": "execute_result"
    }
   ],
   "source": [
    "pf"
   ]
  },
  {
   "cell_type": "code",
   "execution_count": 61,
   "metadata": {},
   "outputs": [],
   "source": [
    "pf.to_csv('out.csv',index=False)"
   ]
  },
  {
   "cell_type": "code",
   "execution_count": null,
   "metadata": {},
   "outputs": [],
   "source": []
  }
 ],
 "metadata": {
  "kernelspec": {
   "display_name": "Python 3",
   "language": "python",
   "name": "python3"
  },
  "language_info": {
   "codemirror_mode": {
    "name": "ipython",
    "version": 3
   },
   "file_extension": ".py",
   "mimetype": "text/x-python",
   "name": "python",
   "nbconvert_exporter": "python",
   "pygments_lexer": "ipython3",
   "version": "3.8.5"
  }
 },
 "nbformat": 4,
 "nbformat_minor": 4
}
